{
  "cells": [
    {
      "cell_type": "markdown",
      "metadata": {
        "id": "view-in-github",
        "colab_type": "text"
      },
      "source": [
        "<a href=\"https://colab.research.google.com/github/jylee092/dataHW08/blob/main/03_Python.ipynb\" target=\"_parent\"><img src=\"https://colab.research.google.com/assets/colab-badge.svg\" alt=\"Open In Colab\"/></a>"
      ]
    },
    {
      "cell_type": "code",
      "execution_count": 1,
      "metadata": {
        "id": "E_EyAIlzyvc5"
      },
      "outputs": [],
      "source": [
        "strVal = 'data science'\n",
        "nVal = 12345\n",
        "fVal = 1.2\n",
        "lVal = ['data', 'science']\n",
        "dVal = {'lecture' : 'data science'}\n",
        "bVal = True"
      ]
    },
    {
      "cell_type": "code",
      "execution_count": 2,
      "metadata": {
        "id": "0M_TGx9gyvc7"
      },
      "outputs": [],
      "source": [
        "# 기본적인 주석"
      ]
    },
    {
      "cell_type": "code",
      "execution_count": 3,
      "metadata": {
        "colab": {
          "base_uri": "https://localhost:8080/",
          "height": 35
        },
        "id": "Zn8_LeIByvc7",
        "outputId": "f25c31d7-5ce1-4304-dda8-0ad905fd213d"
      },
      "outputs": [
        {
          "output_type": "execute_result",
          "data": {
            "text/plain": [
              "'\\n이런 형태의 주석도 많이 사용\\n'"
            ],
            "application/vnd.google.colaboratory.intrinsic+json": {
              "type": "string"
            }
          },
          "metadata": {},
          "execution_count": 3
        }
      ],
      "source": [
        "'''\n",
        "이런 형태의 주석도 많이 사용\n",
        "'''"
      ]
    },
    {
      "cell_type": "code",
      "execution_count": 4,
      "metadata": {
        "colab": {
          "base_uri": "https://localhost:8080/",
          "height": 35
        },
        "id": "Ra1M36d_yvc8",
        "outputId": "3156dcba-8518-4362-9ed6-416a89cea9d6"
      },
      "outputs": [
        {
          "output_type": "execute_result",
          "data": {
            "text/plain": [
              "'data science'"
            ],
            "application/vnd.google.colaboratory.intrinsic+json": {
              "type": "string"
            }
          },
          "metadata": {},
          "execution_count": 4
        }
      ],
      "source": [
        "strVal"
      ]
    },
    {
      "cell_type": "code",
      "execution_count": 5,
      "metadata": {
        "colab": {
          "base_uri": "https://localhost:8080/"
        },
        "id": "C6YTtk2Pyvc8",
        "outputId": "c7934a36-c767-412b-bb15-4b638e542d78"
      },
      "outputs": [
        {
          "output_type": "execute_result",
          "data": {
            "text/plain": [
              "12345"
            ]
          },
          "metadata": {},
          "execution_count": 5
        }
      ],
      "source": [
        "nVal"
      ]
    },
    {
      "cell_type": "code",
      "execution_count": 6,
      "metadata": {
        "colab": {
          "base_uri": "https://localhost:8080/"
        },
        "id": "OZRQCAE6yvc8",
        "outputId": "c9e6308d-a5a3-4b1e-f725-6b99a1057516"
      },
      "outputs": [
        {
          "output_type": "execute_result",
          "data": {
            "text/plain": [
              "1.2"
            ]
          },
          "metadata": {},
          "execution_count": 6
        }
      ],
      "source": [
        "fVal"
      ]
    },
    {
      "cell_type": "code",
      "execution_count": 7,
      "metadata": {
        "colab": {
          "base_uri": "https://localhost:8080/"
        },
        "id": "0DleV_jcyvc9",
        "outputId": "b149a297-b27f-49f7-95b2-b664f120df7c"
      },
      "outputs": [
        {
          "output_type": "execute_result",
          "data": {
            "text/plain": [
              "['data', 'science']"
            ]
          },
          "metadata": {},
          "execution_count": 7
        }
      ],
      "source": [
        "lVal"
      ]
    },
    {
      "cell_type": "code",
      "execution_count": 8,
      "metadata": {
        "colab": {
          "base_uri": "https://localhost:8080/"
        },
        "id": "Ke7aH7eJyvc9",
        "outputId": "354279f2-fb65-47a3-b33b-c36af269f5fb"
      },
      "outputs": [
        {
          "output_type": "execute_result",
          "data": {
            "text/plain": [
              "{'lecture': 'data science'}"
            ]
          },
          "metadata": {},
          "execution_count": 8
        }
      ],
      "source": [
        "dVal"
      ]
    },
    {
      "cell_type": "code",
      "execution_count": 9,
      "metadata": {
        "colab": {
          "base_uri": "https://localhost:8080/"
        },
        "id": "-rw-3fuiyvc9",
        "outputId": "25570577-15b6-4200-e7e8-3c390951a412"
      },
      "outputs": [
        {
          "output_type": "execute_result",
          "data": {
            "text/plain": [
              "True"
            ]
          },
          "metadata": {},
          "execution_count": 9
        }
      ],
      "source": [
        "bVal"
      ]
    },
    {
      "cell_type": "code",
      "execution_count": 10,
      "metadata": {
        "colab": {
          "base_uri": "https://localhost:8080/"
        },
        "id": "XGZw7ts8yvc9",
        "outputId": "4ac8bd32-cd71-4a81-ab9f-77da68519352"
      },
      "outputs": [
        {
          "output_type": "stream",
          "name": "stdout",
          "text": [
            "strVal :  data science\n",
            "nVal :  12345\n",
            "fVal :  1.2\n",
            "lVal :  ['data', 'science']\n",
            "dVal :  {'lecture': 'data science'}\n",
            "bVal :  True\n"
          ]
        }
      ],
      "source": [
        "print('strVal : ', strVal)\n",
        "print('nVal : ', nVal)\n",
        "print('fVal : ', fVal)\n",
        "print('lVal : ', lVal)\n",
        "print('dVal : ', dVal)\n",
        "print('bVal : ', bVal)"
      ]
    },
    {
      "cell_type": "code",
      "execution_count": 11,
      "metadata": {
        "colab": {
          "base_uri": "https://localhost:8080/"
        },
        "id": "mA91vkcCyvc9",
        "outputId": "04c3894f-ec76-4744-f7e6-84c28215e201"
      },
      "outputs": [
        {
          "output_type": "stream",
          "name": "stdout",
          "text": [
            "strVal :  <class 'str'>\n",
            "nVal :  <class 'int'>\n",
            "fVal :  <class 'float'>\n",
            "lVal :  <class 'list'>\n",
            "dVal :  <class 'dict'>\n",
            "bVal :  <class 'bool'>\n"
          ]
        }
      ],
      "source": [
        "print('strVal : ', type(strVal))\n",
        "print('nVal : ', type(nVal))\n",
        "print('fVal : ', type(fVal))\n",
        "print('lVal : ', type(lVal))\n",
        "print('dVal : ', type(dVal))\n",
        "print('bVal : ', type(bVal))"
      ]
    },
    {
      "cell_type": "code",
      "execution_count": 12,
      "metadata": {
        "id": "VCIvliPryvc-"
      },
      "outputs": [],
      "source": [
        "nVal = 16\n",
        "fVal = 3.14"
      ]
    },
    {
      "cell_type": "code",
      "execution_count": 13,
      "metadata": {
        "colab": {
          "base_uri": "https://localhost:8080/"
        },
        "id": "JD3ljhBFyvc-",
        "outputId": "2c558b1b-ac16-404e-d756-d9bb1075a364"
      },
      "outputs": [
        {
          "output_type": "stream",
          "name": "stdout",
          "text": [
            "10진수 표현 :  16\n",
            "2진수 표현 :  0b10000\n",
            "8진수 표현 :  0o20\n",
            "16진수 표현 :  0x10\n"
          ]
        }
      ],
      "source": [
        "print('10진수 표현 : ', nVal)\n",
        "print('2진수 표현 : ', bin(nVal))\n",
        "print('8진수 표현 : ', oct(nVal))\n",
        "print('16진수 표현 : ', hex(nVal))"
      ]
    },
    {
      "cell_type": "code",
      "execution_count": 14,
      "metadata": {
        "id": "PvfxjopEyvc-"
      },
      "outputs": [],
      "source": [
        "btVal = True\n",
        "bfVal = False"
      ]
    },
    {
      "cell_type": "code",
      "execution_count": 15,
      "metadata": {
        "colab": {
          "base_uri": "https://localhost:8080/",
          "height": 193
        },
        "id": "tOfqNOb2yvc-",
        "outputId": "0e66e319-d78f-42e1-9c6d-e563d4dd5de9"
      },
      "outputs": [
        {
          "output_type": "error",
          "ename": "NameError",
          "evalue": "ignored",
          "traceback": [
            "\u001b[0;31m---------------------------------------------------------------------------\u001b[0m",
            "\u001b[0;31mNameError\u001b[0m                                 Traceback (most recent call last)",
            "\u001b[0;32m<ipython-input-15-945336686a11>\u001b[0m in \u001b[0;36m<module>\u001b[0;34m\u001b[0m\n\u001b[0;32m----> 1\u001b[0;31m \u001b[0mbtVal\u001b[0m \u001b[0;34m=\u001b[0m \u001b[0mTRUE\u001b[0m\u001b[0;34m\u001b[0m\u001b[0;34m\u001b[0m\u001b[0m\n\u001b[0m\u001b[1;32m      2\u001b[0m \u001b[0mbfVal\u001b[0m \u001b[0;34m=\u001b[0m \u001b[0mFALSE\u001b[0m\u001b[0;34m\u001b[0m\u001b[0;34m\u001b[0m\u001b[0m\n",
            "\u001b[0;31mNameError\u001b[0m: name 'TRUE' is not defined"
          ]
        }
      ],
      "source": [
        "btVal = TRUE\n",
        "bfVal = FALSE"
      ]
    },
    {
      "cell_type": "code",
      "execution_count": 16,
      "metadata": {
        "colab": {
          "base_uri": "https://localhost:8080/",
          "height": 174
        },
        "id": "Ju4pT2U2yvc-",
        "outputId": "3befb9a5-96f3-49b1-8205-a266bc4f4b6c"
      },
      "outputs": [
        {
          "output_type": "error",
          "ename": "NameError",
          "evalue": "ignored",
          "traceback": [
            "\u001b[0;31m---------------------------------------------------------------------------\u001b[0m",
            "\u001b[0;31mNameError\u001b[0m                                 Traceback (most recent call last)",
            "\u001b[0;32m<ipython-input-16-6d227db2f3e0>\u001b[0m in \u001b[0;36m<module>\u001b[0;34m\u001b[0m\n\u001b[0;32m----> 1\u001b[0;31m \u001b[0mbfVal\u001b[0m \u001b[0;34m=\u001b[0m \u001b[0mfalse\u001b[0m\u001b[0;34m\u001b[0m\u001b[0;34m\u001b[0m\u001b[0m\n\u001b[0m",
            "\u001b[0;31mNameError\u001b[0m: name 'false' is not defined"
          ]
        }
      ],
      "source": [
        "btVal = true\n",
        "bfVal = false"
      ]
    },
    {
      "cell_type": "code",
      "execution_count": 17,
      "metadata": {
        "colab": {
          "base_uri": "https://localhost:8080/"
        },
        "id": "2WVOhPZYyvc_",
        "outputId": "5274aa9a-57be-40f2-917b-fecd622eaf4f"
      },
      "outputs": [
        {
          "output_type": "execute_result",
          "data": {
            "text/plain": [
              "False"
            ]
          },
          "metadata": {},
          "execution_count": 17
        }
      ],
      "source": [
        "10 == 11"
      ]
    },
    {
      "cell_type": "code",
      "execution_count": 18,
      "metadata": {
        "colab": {
          "base_uri": "https://localhost:8080/"
        },
        "id": "-Vxt0zMcyvc_",
        "outputId": "d7a186c3-90d8-4dcf-f5c7-d8a46ccea8a8"
      },
      "outputs": [
        {
          "output_type": "execute_result",
          "data": {
            "text/plain": [
              "True"
            ]
          },
          "metadata": {},
          "execution_count": 18
        }
      ],
      "source": [
        "10 != 11"
      ]
    },
    {
      "cell_type": "code",
      "execution_count": 19,
      "metadata": {
        "colab": {
          "base_uri": "https://localhost:8080/"
        },
        "id": "gIRa3r1Nyvc_",
        "outputId": "437ff5e9-6a12-4cff-9f69-2e1c02aa6efb"
      },
      "outputs": [
        {
          "output_type": "execute_result",
          "data": {
            "text/plain": [
              "False"
            ]
          },
          "metadata": {},
          "execution_count": 19
        }
      ],
      "source": [
        "10 >= 11"
      ]
    },
    {
      "cell_type": "code",
      "execution_count": 20,
      "metadata": {
        "colab": {
          "base_uri": "https://localhost:8080/"
        },
        "id": "OrrB8-YGyvc_",
        "outputId": "965ed688-20a3-4c49-d86a-c3712b73b24e"
      },
      "outputs": [
        {
          "output_type": "execute_result",
          "data": {
            "text/plain": [
              "True"
            ]
          },
          "metadata": {},
          "execution_count": 20
        }
      ],
      "source": [
        "10 <= 11"
      ]
    },
    {
      "cell_type": "code",
      "execution_count": 21,
      "metadata": {
        "colab": {
          "base_uri": "https://localhost:8080/"
        },
        "id": "d8oXk8zdyvc_",
        "outputId": "fa5b708b-35a8-4fba-cf0e-df720be1bf6c"
      },
      "outputs": [
        {
          "output_type": "execute_result",
          "data": {
            "text/plain": [
              "False"
            ]
          },
          "metadata": {},
          "execution_count": 21
        }
      ],
      "source": [
        "10 > 11"
      ]
    },
    {
      "cell_type": "code",
      "execution_count": 22,
      "metadata": {
        "colab": {
          "base_uri": "https://localhost:8080/"
        },
        "id": "xyEqxpi2yvc_",
        "outputId": "ae6bd1ee-6ff6-4173-c9ac-f60e2a97b72f"
      },
      "outputs": [
        {
          "output_type": "execute_result",
          "data": {
            "text/plain": [
              "True"
            ]
          },
          "metadata": {},
          "execution_count": 22
        }
      ],
      "source": [
        "10 < 11"
      ]
    },
    {
      "cell_type": "code",
      "execution_count": 23,
      "metadata": {
        "id": "gkECWpUKyvdA"
      },
      "outputs": [],
      "source": [
        "nBig = 100\n",
        "nSmall = 10"
      ]
    },
    {
      "cell_type": "code",
      "execution_count": 24,
      "metadata": {
        "colab": {
          "base_uri": "https://localhost:8080/"
        },
        "id": "DWbgI-q8yvdA",
        "outputId": "c170b20f-013b-4eaf-e20e-500cdcce5f59"
      },
      "outputs": [
        {
          "output_type": "stream",
          "name": "stdout",
          "text": [
            "False\n",
            "True\n",
            "True\n",
            "False\n",
            "True\n",
            "False\n"
          ]
        }
      ],
      "source": [
        "print(nBig == nSmall)\n",
        "print(nBig != nSmall)\n",
        "print(nBig >= nSmall)\n",
        "print(nBig <= nSmall)\n",
        "print(nBig > nSmall)\n",
        "print(nBig < nSmall)"
      ]
    },
    {
      "cell_type": "code",
      "execution_count": 25,
      "metadata": {
        "colab": {
          "base_uri": "https://localhost:8080/",
          "height": 137
        },
        "id": "rXlMKpxJyvdA",
        "outputId": "41c5050a-8f23-4cfb-9ce8-4d7cdd2527b8"
      },
      "outputs": [
        {
          "output_type": "error",
          "ename": "SyntaxError",
          "evalue": "ignored",
          "traceback": [
            "\u001b[0;36m  File \u001b[0;32m\"<ipython-input-25-3ccfad67ec5b>\"\u001b[0;36m, line \u001b[0;32m1\u001b[0m\n\u001b[0;31m    print(nBig =< nSmall)\u001b[0m\n\u001b[0m                ^\u001b[0m\n\u001b[0;31mSyntaxError\u001b[0m\u001b[0;31m:\u001b[0m invalid syntax\n"
          ]
        }
      ],
      "source": [
        "print(nBig =< nSmall)"
      ]
    },
    {
      "cell_type": "code",
      "execution_count": 26,
      "metadata": {
        "colab": {
          "base_uri": "https://localhost:8080/",
          "height": 137
        },
        "id": "rSg4mD4yyvdA",
        "outputId": "fa554cdd-a0fc-496a-df18-c1d8410649d5"
      },
      "outputs": [
        {
          "output_type": "error",
          "ename": "SyntaxError",
          "evalue": "ignored",
          "traceback": [
            "\u001b[0;36m  File \u001b[0;32m\"<ipython-input-26-704ebfcfd390>\"\u001b[0;36m, line \u001b[0;32m1\u001b[0m\n\u001b[0;31m    print(nBig => nSmall)\u001b[0m\n\u001b[0m                ^\u001b[0m\n\u001b[0;31mSyntaxError\u001b[0m\u001b[0;31m:\u001b[0m invalid syntax\n"
          ]
        }
      ],
      "source": [
        "print(nBig => nSmall)"
      ]
    },
    {
      "cell_type": "code",
      "execution_count": 27,
      "metadata": {
        "id": "5nF7EeauyvdA"
      },
      "outputs": [],
      "source": [
        "strData = 'data'\n",
        "strSci = \"Science\""
      ]
    },
    {
      "cell_type": "code",
      "execution_count": 28,
      "metadata": {
        "id": "LEHPV4WIyvdA"
      },
      "outputs": [],
      "source": [
        "strLecture = strData + strSci"
      ]
    },
    {
      "cell_type": "code",
      "execution_count": 29,
      "metadata": {
        "colab": {
          "base_uri": "https://localhost:8080/",
          "height": 35
        },
        "id": "jooSLVq1yvdB",
        "outputId": "1e699ccb-f461-4036-9515-a1931e0448c2"
      },
      "outputs": [
        {
          "output_type": "execute_result",
          "data": {
            "text/plain": [
              "'dataScience'"
            ],
            "application/vnd.google.colaboratory.intrinsic+json": {
              "type": "string"
            }
          },
          "metadata": {},
          "execution_count": 29
        }
      ],
      "source": [
        "strLecture"
      ]
    },
    {
      "cell_type": "code",
      "execution_count": 30,
      "metadata": {
        "colab": {
          "base_uri": "https://localhost:8080/",
          "height": 35
        },
        "id": "Vh83CKnyyvdB",
        "outputId": "f280ee79-5b96-4225-b470-93f1fdc047f5"
      },
      "outputs": [
        {
          "output_type": "execute_result",
          "data": {
            "text/plain": [
              "'data Science'"
            ],
            "application/vnd.google.colaboratory.intrinsic+json": {
              "type": "string"
            }
          },
          "metadata": {},
          "execution_count": 30
        }
      ],
      "source": [
        "strLecture = strData +\" \"+ strSci\n",
        "strLecture"
      ]
    },
    {
      "cell_type": "code",
      "execution_count": 31,
      "metadata": {
        "colab": {
          "base_uri": "https://localhost:8080/"
        },
        "id": "ak9GmErAyvdB",
        "outputId": "f9ac6ec7-1a5d-4e4c-cd7d-d2a2422f9e6d"
      },
      "outputs": [
        {
          "output_type": "execute_result",
          "data": {
            "text/plain": [
              "['data', 'Science']"
            ]
          },
          "metadata": {},
          "execution_count": 31
        }
      ],
      "source": [
        "strLecture.split()"
      ]
    },
    {
      "cell_type": "code",
      "execution_count": 32,
      "metadata": {
        "id": "thtLTZNjyvdB"
      },
      "outputs": [],
      "source": [
        "lSeperate = strLecture.split()"
      ]
    },
    {
      "cell_type": "code",
      "execution_count": 33,
      "metadata": {
        "colab": {
          "base_uri": "https://localhost:8080/"
        },
        "id": "xlsolFGtyvdB",
        "outputId": "5d6a3ab1-5630-49dd-e643-3c02b7343347"
      },
      "outputs": [
        {
          "output_type": "execute_result",
          "data": {
            "text/plain": [
              "list"
            ]
          },
          "metadata": {},
          "execution_count": 33
        }
      ],
      "source": [
        "type(lSeperate)"
      ]
    },
    {
      "cell_type": "code",
      "execution_count": 34,
      "metadata": {
        "id": "C6ogkFiCyvdB"
      },
      "outputs": [],
      "source": [
        "strHello = \"안녕하세요. 반갑습니다.\""
      ]
    },
    {
      "cell_type": "code",
      "execution_count": 35,
      "metadata": {
        "colab": {
          "base_uri": "https://localhost:8080/"
        },
        "id": "P7R4XkywyvdB",
        "outputId": "964624cb-96cf-4b4c-9f3f-34519117aef6"
      },
      "outputs": [
        {
          "output_type": "execute_result",
          "data": {
            "text/plain": [
              "7"
            ]
          },
          "metadata": {},
          "execution_count": 35
        }
      ],
      "source": [
        "strHello.find(\"반갑\")"
      ]
    },
    {
      "cell_type": "code",
      "execution_count": 36,
      "metadata": {
        "colab": {
          "base_uri": "https://localhost:8080/"
        },
        "id": "JwDuZSn7yvdB",
        "outputId": "dfee607f-bf9f-4583-ef8e-42efcb8ebe52"
      },
      "outputs": [
        {
          "output_type": "execute_result",
          "data": {
            "text/plain": [
              "-1"
            ]
          },
          "metadata": {},
          "execution_count": 36
        }
      ],
      "source": [
        "strHello.find(\"hello\")"
      ]
    },
    {
      "cell_type": "code",
      "execution_count": 37,
      "metadata": {
        "colab": {
          "base_uri": "https://localhost:8080/"
        },
        "id": "kaQk0T7WyvdC",
        "outputId": "d2bd21c2-8051-499a-e0f1-d869a9a8fb55"
      },
      "outputs": [
        {
          "output_type": "execute_result",
          "data": {
            "text/plain": [
              "True"
            ]
          },
          "metadata": {},
          "execution_count": 37
        }
      ],
      "source": [
        "\"반갑\" in strHello"
      ]
    },
    {
      "cell_type": "code",
      "execution_count": 38,
      "metadata": {
        "colab": {
          "base_uri": "https://localhost:8080/",
          "height": 35
        },
        "id": "WJnnpCiSyvdC",
        "outputId": "21f40138-3c3b-4702-f33a-1ce2beb53624"
      },
      "outputs": [
        {
          "output_type": "execute_result",
          "data": {
            "text/plain": [
              "'안녕하세요? 반갑습니다?'"
            ],
            "application/vnd.google.colaboratory.intrinsic+json": {
              "type": "string"
            }
          },
          "metadata": {},
          "execution_count": 38
        }
      ],
      "source": [
        "strHello.replace('.', '?')"
      ]
    },
    {
      "cell_type": "code",
      "execution_count": 39,
      "metadata": {
        "colab": {
          "base_uri": "https://localhost:8080/",
          "height": 35
        },
        "id": "P9QibVvyyvdC",
        "outputId": "32652b95-f977-47b4-b150-3f519686aba5"
      },
      "outputs": [
        {
          "output_type": "execute_result",
          "data": {
            "text/plain": [
              "'안녕하셔유. 반갑습니다.'"
            ],
            "application/vnd.google.colaboratory.intrinsic+json": {
              "type": "string"
            }
          },
          "metadata": {},
          "execution_count": 39
        }
      ],
      "source": [
        "strHello.replace('.', '?')\n",
        "strHello.replace(\"하세요\", \"하셔유\")"
      ]
    },
    {
      "cell_type": "code",
      "execution_count": 40,
      "metadata": {
        "colab": {
          "base_uri": "https://localhost:8080/",
          "height": 35
        },
        "id": "DpcwMRkqyvdC",
        "outputId": "f1b9396f-c5e5-4af2-94d1-2599cc1964a1"
      },
      "outputs": [
        {
          "output_type": "execute_result",
          "data": {
            "text/plain": [
              "'안녕하세요. 반갑습니다.'"
            ],
            "application/vnd.google.colaboratory.intrinsic+json": {
              "type": "string"
            }
          },
          "metadata": {},
          "execution_count": 40
        }
      ],
      "source": [
        "strHello"
      ]
    },
    {
      "cell_type": "code",
      "execution_count": 41,
      "metadata": {
        "colab": {
          "base_uri": "https://localhost:8080/",
          "height": 35
        },
        "id": "RuknUFIpyvdC",
        "outputId": "94c8ec51-e23c-443c-9b95-29aa35fb29c2"
      },
      "outputs": [
        {
          "output_type": "execute_result",
          "data": {
            "text/plain": [
              "'안녕하셔유? 반갑습니다?'"
            ],
            "application/vnd.google.colaboratory.intrinsic+json": {
              "type": "string"
            }
          },
          "metadata": {},
          "execution_count": 41
        }
      ],
      "source": [
        "strNewHello = strHello.replace('.', '?')\n",
        "strNewHello = strNewHello.replace(\"하세요\", \"하셔유\")\n",
        "strNewHello"
      ]
    },
    {
      "cell_type": "code",
      "execution_count": 42,
      "metadata": {
        "colab": {
          "base_uri": "https://localhost:8080/",
          "height": 35
        },
        "id": "VkjOZUPmyvdC",
        "outputId": "53133ba8-4a1f-4411-a7d7-0d1171f36c8c"
      },
      "outputs": [
        {
          "output_type": "execute_result",
          "data": {
            "text/plain": [
              "'안녕하세요. '"
            ],
            "application/vnd.google.colaboratory.intrinsic+json": {
              "type": "string"
            }
          },
          "metadata": {},
          "execution_count": 42
        }
      ],
      "source": [
        "strHello.strip('반갑습니다.')"
      ]
    },
    {
      "cell_type": "code",
      "execution_count": 43,
      "metadata": {
        "colab": {
          "base_uri": "https://localhost:8080/",
          "height": 35
        },
        "id": "VRvc8phGyvdC",
        "outputId": "b19b1cf4-8db7-411f-db99-7fd373e319fe"
      },
      "outputs": [
        {
          "output_type": "execute_result",
          "data": {
            "text/plain": [
              "'안녕하세요. 반갑습니다.'"
            ],
            "application/vnd.google.colaboratory.intrinsic+json": {
              "type": "string"
            }
          },
          "metadata": {},
          "execution_count": 43
        }
      ],
      "source": [
        "strHello"
      ]
    },
    {
      "cell_type": "code",
      "execution_count": 44,
      "metadata": {
        "colab": {
          "base_uri": "https://localhost:8080/"
        },
        "id": "nyWzw9QXyvdD",
        "outputId": "532eca2d-e58b-4ad7-cc6d-87824b5ecde6"
      },
      "outputs": [
        {
          "output_type": "stream",
          "name": "stdout",
          "text": [
            "[1, 2, 3, 4, 5]\n",
            "type :  <class 'list'>\n"
          ]
        }
      ],
      "source": [
        "lnData = [1,2,3,4,5]\n",
        "print(lnData)\n",
        "print('type : ', type(lnData))"
      ]
    },
    {
      "cell_type": "code",
      "execution_count": 45,
      "metadata": {
        "colab": {
          "base_uri": "https://localhost:8080/"
        },
        "id": "iZ6qnuMOyvdD",
        "outputId": "244a0c4d-5bfe-4730-a5b6-15762ec57987"
      },
      "outputs": [
        {
          "output_type": "stream",
          "name": "stdout",
          "text": [
            "1\n",
            "4\n"
          ]
        }
      ],
      "source": [
        "print(lnData[0])\n",
        "print(lnData[3])"
      ]
    },
    {
      "cell_type": "code",
      "execution_count": 46,
      "metadata": {
        "colab": {
          "base_uri": "https://localhost:8080/"
        },
        "id": "-auzFXlWyvdD",
        "outputId": "058fed42-3297-4968-e373-1ba74b11ba5e"
      },
      "outputs": [
        {
          "output_type": "stream",
          "name": "stdout",
          "text": [
            "[5, 2, 3, 4, 5]\n"
          ]
        }
      ],
      "source": [
        "lnData[0] = lnData[4]\n",
        "print(lnData)"
      ]
    },
    {
      "cell_type": "code",
      "execution_count": 47,
      "metadata": {
        "colab": {
          "base_uri": "https://localhost:8080/"
        },
        "id": "c6I-Vk1uyvdD",
        "outputId": "bbcfe645-5fff-493d-ee66-bb8e9446ff67"
      },
      "outputs": [
        {
          "output_type": "stream",
          "name": "stdout",
          "text": [
            "[3, 4]\n"
          ]
        }
      ],
      "source": [
        "print(lnData[2:4])"
      ]
    },
    {
      "cell_type": "code",
      "execution_count": 48,
      "metadata": {
        "colab": {
          "base_uri": "https://localhost:8080/"
        },
        "id": "4tLLl6V4yvdD",
        "outputId": "bf341bd7-c9cd-4e6d-b12c-f9b6fbb72b75"
      },
      "outputs": [
        {
          "output_type": "execute_result",
          "data": {
            "text/plain": [
              "[1, 2, 3, 4, 5, 'a', 'b', 'c']"
            ]
          },
          "metadata": {},
          "execution_count": 48
        }
      ],
      "source": [
        "lnData = [1,2,3,4,5]\n",
        "lstrData=['a', 'b', 'c']\n",
        "lnData + lstrData"
      ]
    },
    {
      "cell_type": "code",
      "execution_count": 49,
      "metadata": {
        "colab": {
          "base_uri": "https://localhost:8080/"
        },
        "id": "yDwZbQujyvdD",
        "outputId": "2bdf06cd-f702-4a77-fa7c-61762ba17845"
      },
      "outputs": [
        {
          "output_type": "execute_result",
          "data": {
            "text/plain": [
              "[1, 2, 3, 4, 5, 10]"
            ]
          },
          "metadata": {},
          "execution_count": 49
        }
      ],
      "source": [
        "lnData.append(10)\n",
        "lnData"
      ]
    },
    {
      "cell_type": "code",
      "execution_count": 50,
      "metadata": {
        "colab": {
          "base_uri": "https://localhost:8080/"
        },
        "id": "8N8u1L0uyvdE",
        "outputId": "e9ec9417-7e3a-40e1-da12-813fdd8fc050"
      },
      "outputs": [
        {
          "output_type": "execute_result",
          "data": {
            "text/plain": [
              "['python', 1, 2, 3, 4, 5, 10]"
            ]
          },
          "metadata": {},
          "execution_count": 50
        }
      ],
      "source": [
        "lnData.insert(0, 'python')\n",
        "lnData"
      ]
    },
    {
      "cell_type": "code",
      "execution_count": 51,
      "metadata": {
        "colab": {
          "base_uri": "https://localhost:8080/"
        },
        "id": "lXS7mr_OyvdE",
        "outputId": "9334277c-4c6b-4de3-d363-0e89f76a9bdf"
      },
      "outputs": [
        {
          "output_type": "execute_result",
          "data": {
            "text/plain": [
              "[1, 2, 3, 4, 5, 10]"
            ]
          },
          "metadata": {},
          "execution_count": 51
        }
      ],
      "source": [
        "lnData.remove('python')\n",
        "lnData"
      ]
    },
    {
      "cell_type": "code",
      "execution_count": 52,
      "metadata": {
        "colab": {
          "base_uri": "https://localhost:8080/"
        },
        "id": "qWIxNwDnyvdE",
        "outputId": "f0115088-4629-4ea5-e0cd-2cde1dff2906"
      },
      "outputs": [
        {
          "output_type": "execute_result",
          "data": {
            "text/plain": [
              "[1, 2, 3, 4, 5]"
            ]
          },
          "metadata": {},
          "execution_count": 52
        }
      ],
      "source": [
        "del lnData[5]\n",
        "lnData"
      ]
    },
    {
      "cell_type": "code",
      "execution_count": 53,
      "metadata": {
        "colab": {
          "base_uri": "https://localhost:8080/"
        },
        "id": "oQzXvP-ZyvdE",
        "outputId": "c7d0ff25-6842-4c8d-d544-6906c6851b34"
      },
      "outputs": [
        {
          "output_type": "execute_result",
          "data": {
            "text/plain": [
              "[1, 2, 3, 4, 5]"
            ]
          },
          "metadata": {},
          "execution_count": 53
        }
      ],
      "source": [
        "lnData"
      ]
    },
    {
      "cell_type": "code",
      "execution_count": 54,
      "metadata": {
        "colab": {
          "base_uri": "https://localhost:8080/"
        },
        "id": "-mFNa18nyvdE",
        "outputId": "57eb6a59-0567-4d55-9075-bfcbcbfcad70"
      },
      "outputs": [
        {
          "output_type": "execute_result",
          "data": {
            "text/plain": [
              "[2, 3, 4, 5]"
            ]
          },
          "metadata": {},
          "execution_count": 54
        }
      ],
      "source": [
        "lnData.pop(0)\n",
        "lnData"
      ]
    },
    {
      "cell_type": "code",
      "execution_count": 55,
      "metadata": {
        "colab": {
          "base_uri": "https://localhost:8080/"
        },
        "id": "f5t32fHfyvdE",
        "outputId": "450a2f97-8823-4e24-bfd3-71afeabc4b51"
      },
      "outputs": [
        {
          "output_type": "execute_result",
          "data": {
            "text/plain": [
              "[2, 3, 4]"
            ]
          },
          "metadata": {},
          "execution_count": 55
        }
      ],
      "source": [
        "lnData.pop()\n",
        "lnData"
      ]
    },
    {
      "cell_type": "code",
      "execution_count": 56,
      "metadata": {
        "colab": {
          "base_uri": "https://localhost:8080/"
        },
        "id": "UdcZlXkmyvdF",
        "outputId": "7769db39-78d2-463c-dffe-5384e83929b5"
      },
      "outputs": [
        {
          "output_type": "execute_result",
          "data": {
            "text/plain": [
              "[]"
            ]
          },
          "metadata": {},
          "execution_count": 56
        }
      ],
      "source": [
        "lnData.clear()\n",
        "lnData"
      ]
    },
    {
      "cell_type": "code",
      "execution_count": 57,
      "metadata": {
        "colab": {
          "base_uri": "https://localhost:8080/"
        },
        "id": "QRdmR5t3yvdF",
        "outputId": "351e9970-2fcc-404a-dc45-1e323033b534"
      },
      "outputs": [
        {
          "output_type": "stream",
          "name": "stdout",
          "text": [
            "('사과', '딸기', '바나나', '토마토', '키위')\n",
            "<class 'tuple'>\n"
          ]
        }
      ],
      "source": [
        "tVal = (\"사과\", \"딸기\", \"바나나\", \"토마토\", \"키위\")\n",
        "print(tVal)\n",
        "print(type(tVal))"
      ]
    },
    {
      "cell_type": "code",
      "execution_count": 59,
      "metadata": {
        "colab": {
          "base_uri": "https://localhost:8080/",
          "height": 174
        },
        "id": "50EXEuj3yvdF",
        "outputId": "eff2af00-781f-4d4e-988c-20837da85e91"
      },
      "outputs": [
        {
          "output_type": "error",
          "ename": "TypeError",
          "evalue": "ignored",
          "traceback": [
            "\u001b[0;31m---------------------------------------------------------------------------\u001b[0m",
            "\u001b[0;31mTypeError\u001b[0m                                 Traceback (most recent call last)",
            "\u001b[0;32m<ipython-input-59-e77a009ef5ed>\u001b[0m in \u001b[0;36m<module>\u001b[0;34m\u001b[0m\n\u001b[0;32m----> 1\u001b[0;31m \u001b[0mtVal\u001b[0m\u001b[0;34m[\u001b[0m\u001b[0;36m0\u001b[0m\u001b[0;34m]\u001b[0m \u001b[0;34m=\u001b[0m \u001b[0;34m\"포도\"\u001b[0m\u001b[0;34m\u001b[0m\u001b[0;34m\u001b[0m\u001b[0m\n\u001b[0m",
            "\u001b[0;31mTypeError\u001b[0m: 'tuple' object does not support item assignment"
          ]
        }
      ],
      "source": [
        "tVal[0] = \"포도\""
      ]
    },
    {
      "cell_type": "code",
      "execution_count": 60,
      "metadata": {
        "colab": {
          "base_uri": "https://localhost:8080/"
        },
        "id": "aKzcJfZnyvdF",
        "outputId": "a9fae5b1-c3e0-4030-e1b8-369e46cbe318"
      },
      "outputs": [
        {
          "output_type": "execute_result",
          "data": {
            "text/plain": [
              "3"
            ]
          },
          "metadata": {},
          "execution_count": 60
        }
      ],
      "source": [
        "tData = ( 1, 2, 3, 1, 2, 3, 4, 5, 1, 2, 7)\n",
        "tData.count(1)"
      ]
    },
    {
      "cell_type": "code",
      "execution_count": 61,
      "metadata": {
        "colab": {
          "base_uri": "https://localhost:8080/"
        },
        "id": "7LbR6GWCyvdF",
        "outputId": "12f93316-acb1-42eb-aa44-9d818440c6d2"
      },
      "outputs": [
        {
          "output_type": "execute_result",
          "data": {
            "text/plain": [
              "5"
            ]
          },
          "metadata": {},
          "execution_count": 61
        }
      ],
      "source": [
        "len(tVal)"
      ]
    },
    {
      "cell_type": "code",
      "execution_count": 62,
      "metadata": {
        "colab": {
          "base_uri": "https://localhost:8080/"
        },
        "id": "I6QzjxXpyvdF",
        "outputId": "482285d8-0a00-446c-c5d4-b4cce14dbfb9"
      },
      "outputs": [
        {
          "output_type": "execute_result",
          "data": {
            "text/plain": [
              "11"
            ]
          },
          "metadata": {},
          "execution_count": 62
        }
      ],
      "source": [
        "len(tData)"
      ]
    },
    {
      "cell_type": "code",
      "execution_count": 63,
      "metadata": {
        "colab": {
          "base_uri": "https://localhost:8080/"
        },
        "id": "Yic-XMuuyvdG",
        "outputId": "a66e53fa-daf0-48dc-b8d2-70f5d4d99140"
      },
      "outputs": [
        {
          "output_type": "stream",
          "name": "stdout",
          "text": [
            "(3, 1, 2)\n"
          ]
        }
      ],
      "source": [
        "print(tData[2:5])"
      ]
    },
    {
      "cell_type": "code",
      "execution_count": 64,
      "metadata": {
        "colab": {
          "base_uri": "https://localhost:8080/"
        },
        "id": "QzaUE_iFyvdG",
        "outputId": "fa9f5a60-7e87-451b-f96e-43f62344adc0"
      },
      "outputs": [
        {
          "output_type": "stream",
          "name": "stdout",
          "text": [
            "('사과', '딸기', '바나나', '토마토', '키위', 1, 2, 3, 1, 2, 3, 4, 5, 1, 2, 7)\n"
          ]
        }
      ],
      "source": [
        "tTuple = tVal+ tData\n",
        "print(tTuple)"
      ]
    },
    {
      "cell_type": "code",
      "execution_count": 65,
      "metadata": {
        "colab": {
          "base_uri": "https://localhost:8080/"
        },
        "id": "QpGq4GmByvdG",
        "outputId": "1011b2cc-870b-44cd-e072-f0eb3e608af4"
      },
      "outputs": [
        {
          "output_type": "execute_result",
          "data": {
            "text/plain": [
              "(1, 2, 3, 1, 2, 3, 4, 5, 1, 2, 7, 1, 2, 3, 1, 2, 3, 4, 5, 1, 2, 7)"
            ]
          },
          "metadata": {},
          "execution_count": 65
        }
      ],
      "source": [
        "tData * 2"
      ]
    },
    {
      "cell_type": "code",
      "execution_count": 66,
      "metadata": {
        "colab": {
          "base_uri": "https://localhost:8080/"
        },
        "id": "1oLtAPf3yvdG",
        "outputId": "9c78dcb2-c426-4d52-b5f8-ee754981fc59"
      },
      "outputs": [
        {
          "output_type": "execute_result",
          "data": {
            "text/plain": [
              "(1, 2, 3, 1, 2, 3, 4, 5, 1, 2, 7)"
            ]
          },
          "metadata": {},
          "execution_count": 66
        }
      ],
      "source": [
        "tData"
      ]
    },
    {
      "cell_type": "code",
      "execution_count": 67,
      "metadata": {
        "colab": {
          "base_uri": "https://localhost:8080/"
        },
        "id": "upjxuAjMyvdG",
        "outputId": "34eb8c63-278d-48e3-eeae-dbaef383bec7"
      },
      "outputs": [
        {
          "output_type": "stream",
          "name": "stdout",
          "text": [
            "(1, 2, 3, 1, 2, 3, 4, 5, 1, 2, 7, 1, 2, 3, 1, 2, 3, 4, 5, 1, 2, 7)\n"
          ]
        }
      ],
      "source": [
        "tData2 = tData * 2\n",
        "print(tData2)"
      ]
    },
    {
      "cell_type": "code",
      "execution_count": 68,
      "metadata": {
        "colab": {
          "base_uri": "https://localhost:8080/"
        },
        "id": "s0_gbIEUyvdG",
        "outputId": "c5737d27-646f-4c50-9a76-54514be6210a"
      },
      "outputs": [
        {
          "output_type": "stream",
          "name": "stdout",
          "text": [
            "tVal memory =  0x7f10e17df3b0\n",
            "tVal memory =  0x7f10ddcf7ef0\n",
            "('사과', '딸기', '바나나', '토마토', '키위', '사과', '딸기', '바나나', '토마토', '키위')\n"
          ]
        }
      ],
      "source": [
        "print(\"tVal memory = \", hex(id(tVal)))\n",
        "tVal = tVal * 2\n",
        "print(\"tVal memory = \", hex(id(tVal)))\n",
        "print(tVal)"
      ]
    },
    {
      "cell_type": "code",
      "execution_count": 69,
      "metadata": {
        "colab": {
          "base_uri": "https://localhost:8080/"
        },
        "id": "AYxrmzETyvdG",
        "outputId": "24afd680-3819-4749-bd16-db8e6e4af49d"
      },
      "outputs": [
        {
          "output_type": "stream",
          "name": "stdout",
          "text": [
            "tVal memory =  0x7f10ddcf7ef0\n",
            "tVal memory =  0x7f10e19474b0\n",
            "('사과', '딸기', '바나나', '토마토', '키위', '사과', '딸기', '바나나', '토마토', '키위', '사과', '딸기', '바나나', '토마토', '키위', '사과', '딸기', '바나나', '토마토', '키위')\n"
          ]
        }
      ],
      "source": [
        "print(\"tVal memory = \", hex(id(tVal)))\n",
        "tVal = tVal + tVal\n",
        "print(\"tVal memory = \", hex(id(tVal)))\n",
        "print(tVal)"
      ]
    },
    {
      "cell_type": "code",
      "execution_count": 70,
      "metadata": {
        "colab": {
          "base_uri": "https://localhost:8080/"
        },
        "id": "zntN_SA4yvdH",
        "outputId": "73cc32b0-f44b-4188-c677-cf3c185da185"
      },
      "outputs": [
        {
          "output_type": "stream",
          "name": "stdout",
          "text": [
            "{1, 2, 3, 4, 5}\n",
            "<class 'set'>\n"
          ]
        }
      ],
      "source": [
        "sVal = {1, 2, 3, 4, 5}\n",
        "print(sVal)\n",
        "print(type(sVal))"
      ]
    },
    {
      "cell_type": "code",
      "execution_count": 72,
      "metadata": {
        "colab": {
          "base_uri": "https://localhost:8080/",
          "height": 174
        },
        "id": "IvML3tmkyvdH",
        "outputId": "cbd39d72-ac46-40f4-ab31-0fdfcb6edaef"
      },
      "outputs": [
        {
          "output_type": "error",
          "ename": "TypeError",
          "evalue": "ignored",
          "traceback": [
            "\u001b[0;31m---------------------------------------------------------------------------\u001b[0m",
            "\u001b[0;31mTypeError\u001b[0m                                 Traceback (most recent call last)",
            "\u001b[0;32m<ipython-input-72-5e16076670ae>\u001b[0m in \u001b[0;36m<module>\u001b[0;34m\u001b[0m\n\u001b[0;32m----> 1\u001b[0;31m \u001b[0msVal\u001b[0m\u001b[0;34m[\u001b[0m\u001b[0;36m1\u001b[0m\u001b[0;34m:\u001b[0m\u001b[0;36m2\u001b[0m\u001b[0;34m]\u001b[0m\u001b[0;34m\u001b[0m\u001b[0;34m\u001b[0m\u001b[0m\n\u001b[0m",
            "\u001b[0;31mTypeError\u001b[0m: 'set' object is not subscriptable"
          ]
        }
      ],
      "source": [
        "sVal[1:2]"
      ]
    },
    {
      "cell_type": "code",
      "execution_count": 73,
      "metadata": {
        "colab": {
          "base_uri": "https://localhost:8080/"
        },
        "id": "BMCIA6cdyvdH",
        "outputId": "1b99b97b-6db3-4b0a-96e6-a34531950ca9"
      },
      "outputs": [
        {
          "output_type": "stream",
          "name": "stdout",
          "text": [
            "{1, 2, 3, 4, 5, 100}\n"
          ]
        }
      ],
      "source": [
        "sVal.add(100)\n",
        "print(sVal)"
      ]
    },
    {
      "cell_type": "code",
      "execution_count": 74,
      "metadata": {
        "colab": {
          "base_uri": "https://localhost:8080/"
        },
        "id": "6P-thFx2yvdH",
        "outputId": "b55d373b-7f95-4689-ff26-b6c48d5a017b"
      },
      "outputs": [
        {
          "output_type": "stream",
          "name": "stdout",
          "text": [
            "{1, 2, 3, 4, 5, 100, 200, 300}\n"
          ]
        }
      ],
      "source": [
        "sVal.update([200, 300])\n",
        "print(sVal)"
      ]
    },
    {
      "cell_type": "code",
      "execution_count": 75,
      "metadata": {
        "colab": {
          "base_uri": "https://localhost:8080/"
        },
        "id": "gSxynDmJyvdH",
        "outputId": "b0b083a2-8034-4b7d-d078-a2b0df63d51d"
      },
      "outputs": [
        {
          "output_type": "stream",
          "name": "stdout",
          "text": [
            "{1, 2, 3, 4, 5, 100, 300}\n"
          ]
        }
      ],
      "source": [
        "sVal.remove(200)\n",
        "print(sVal)"
      ]
    },
    {
      "cell_type": "code",
      "execution_count": 76,
      "metadata": {
        "colab": {
          "base_uri": "https://localhost:8080/"
        },
        "id": "YruH9s2VyvdH",
        "outputId": "048ddd78-5183-4b3a-e512-f00ec820baa5"
      },
      "outputs": [
        {
          "output_type": "stream",
          "name": "stdout",
          "text": [
            "set()\n"
          ]
        }
      ],
      "source": [
        "sVal.clear()\n",
        "print(sVal)"
      ]
    },
    {
      "cell_type": "code",
      "execution_count": 77,
      "metadata": {
        "colab": {
          "base_uri": "https://localhost:8080/"
        },
        "id": "UZ7cNJRryvdH",
        "outputId": "66d9682f-6c92-4855-fcd7-12534cad5d1d"
      },
      "outputs": [
        {
          "output_type": "stream",
          "name": "stdout",
          "text": [
            "{100, 200, 300, 400, 500}\n",
            "{100, 'b', 'c', 300, 'a'}\n"
          ]
        }
      ],
      "source": [
        "sVal = {100, 200, 300, 400, 500}\n",
        "sData = {\"a\", \"b\", \"c\", \"c\", 100, 300}\n",
        "print(sVal)\n",
        "print(sData)"
      ]
    },
    {
      "cell_type": "code",
      "execution_count": 78,
      "metadata": {
        "colab": {
          "base_uri": "https://localhost:8080/"
        },
        "id": "FO4l5w23yvdI",
        "outputId": "9fe9f48c-b12a-49b3-bad1-c4b6e2186ddf"
      },
      "outputs": [
        {
          "output_type": "execute_result",
          "data": {
            "text/plain": [
              "{100, 300}"
            ]
          },
          "metadata": {},
          "execution_count": 78
        }
      ],
      "source": [
        "sVal.intersection(sData)"
      ]
    },
    {
      "cell_type": "code",
      "execution_count": 79,
      "metadata": {
        "colab": {
          "base_uri": "https://localhost:8080/"
        },
        "id": "24hyTFyByvdI",
        "outputId": "1ba46955-bb6e-4da5-ba0e-a4e69d177f4e"
      },
      "outputs": [
        {
          "output_type": "execute_result",
          "data": {
            "text/plain": [
              "{200, 400, 500}"
            ]
          },
          "metadata": {},
          "execution_count": 79
        }
      ],
      "source": [
        "sVal.difference(sData)"
      ]
    },
    {
      "cell_type": "code",
      "execution_count": 80,
      "metadata": {
        "colab": {
          "base_uri": "https://localhost:8080/"
        },
        "id": "kXDvb3s8yvdI",
        "outputId": "a7c9a297-7665-491d-a404-a54729753ae2"
      },
      "outputs": [
        {
          "output_type": "execute_result",
          "data": {
            "text/plain": [
              "{200, 400, 500}"
            ]
          },
          "metadata": {},
          "execution_count": 80
        }
      ],
      "source": [
        "sVal - sData"
      ]
    },
    {
      "cell_type": "code",
      "execution_count": 81,
      "metadata": {
        "colab": {
          "base_uri": "https://localhost:8080/"
        },
        "id": "Ipmf06juyvdI",
        "outputId": "16c05e79-891b-425f-b29f-324e76ab3713"
      },
      "outputs": [
        {
          "output_type": "execute_result",
          "data": {
            "text/plain": [
              "{100, 200, 300, 400, 500, 'a', 'b', 'c'}"
            ]
          },
          "metadata": {},
          "execution_count": 81
        }
      ],
      "source": [
        "sVal.union(sData)"
      ]
    },
    {
      "cell_type": "code",
      "execution_count": 83,
      "metadata": {
        "colab": {
          "base_uri": "https://localhost:8080/",
          "height": 174
        },
        "id": "wBSuq0GJyvdI",
        "outputId": "e0601af1-8452-4dc8-d2d4-bf7e45f95d0e"
      },
      "outputs": [
        {
          "output_type": "error",
          "ename": "TypeError",
          "evalue": "ignored",
          "traceback": [
            "\u001b[0;31m---------------------------------------------------------------------------\u001b[0m",
            "\u001b[0;31mTypeError\u001b[0m                                 Traceback (most recent call last)",
            "\u001b[0;32m<ipython-input-83-11b8b6a5db93>\u001b[0m in \u001b[0;36m<module>\u001b[0;34m\u001b[0m\n\u001b[0;32m----> 1\u001b[0;31m \u001b[0msVal\u001b[0m \u001b[0;34m+\u001b[0m \u001b[0msData\u001b[0m\u001b[0;34m\u001b[0m\u001b[0;34m\u001b[0m\u001b[0m\n\u001b[0m",
            "\u001b[0;31mTypeError\u001b[0m: unsupported operand type(s) for +: 'set' and 'set'"
          ]
        }
      ],
      "source": [
        "sVal + sData"
      ]
    },
    {
      "cell_type": "code",
      "execution_count": 84,
      "metadata": {
        "colab": {
          "base_uri": "https://localhost:8080/"
        },
        "id": "xEpH56URyvdI",
        "outputId": "9ea5e74b-3ca6-4207-e872-3fcc7925ed79"
      },
      "outputs": [
        {
          "output_type": "execute_result",
          "data": {
            "text/plain": [
              "{200, 400, 500, 'a', 'b', 'c'}"
            ]
          },
          "metadata": {},
          "execution_count": 84
        }
      ],
      "source": [
        "sVal.symmetric_difference(sData)"
      ]
    },
    {
      "cell_type": "code",
      "execution_count": 85,
      "metadata": {
        "colab": {
          "base_uri": "https://localhost:8080/"
        },
        "id": "lt1LXjPSyvdJ",
        "outputId": "1c3763cb-b7e2-40c6-a3aa-b54fe0b51f78"
      },
      "outputs": [
        {
          "output_type": "stream",
          "name": "stdout",
          "text": [
            "{'name': '이컴공', 'email': 'computer@hoseo.edu', 'address': '충남 아산시'}\n",
            "<class 'dict'>\n"
          ]
        }
      ],
      "source": [
        "dVal = {'name' : '이컴공', 'email' : 'computer@hoseo.edu', 'address' : '충남 아산시'}\n",
        "print(dVal)\n",
        "print(type(dVal))"
      ]
    },
    {
      "cell_type": "code",
      "execution_count": 86,
      "metadata": {
        "id": "q1oyoe1dyvdJ"
      },
      "outputs": [],
      "source": [
        "dData = {\"사과\" : 300, \"포도\" : 200, \"배\" : 500, \"키위\" : 100}"
      ]
    },
    {
      "cell_type": "code",
      "execution_count": 87,
      "metadata": {
        "colab": {
          "base_uri": "https://localhost:8080/"
        },
        "id": "9WNd6ya9yvdJ",
        "outputId": "5b393ae3-9c5c-45d5-cba1-28cd6422b860"
      },
      "outputs": [
        {
          "output_type": "stream",
          "name": "stdout",
          "text": [
            "500\n"
          ]
        }
      ],
      "source": [
        "print(dData[\"배\"])"
      ]
    },
    {
      "cell_type": "code",
      "execution_count": 88,
      "metadata": {
        "colab": {
          "base_uri": "https://localhost:8080/"
        },
        "id": "Jbb7LreHyvdJ",
        "outputId": "14e9c825-503c-484e-cfc1-d3cc7738c8dd"
      },
      "outputs": [
        {
          "output_type": "execute_result",
          "data": {
            "text/plain": [
              "500"
            ]
          },
          "metadata": {},
          "execution_count": 88
        }
      ],
      "source": [
        "dData.get(\"배\")"
      ]
    },
    {
      "cell_type": "code",
      "execution_count": 89,
      "metadata": {
        "colab": {
          "base_uri": "https://localhost:8080/"
        },
        "id": "ZHZT_tvvyvdJ",
        "outputId": "a532b050-ddad-4016-a836-3048ce2a8cde"
      },
      "outputs": [
        {
          "output_type": "stream",
          "name": "stdout",
          "text": [
            "{'사과': 300, '포도': 200, '배': 500, '키위': 100, '딸기': 100}\n"
          ]
        }
      ],
      "source": [
        "dData[\"딸기\"] = 100\n",
        "print(dData)"
      ]
    },
    {
      "cell_type": "code",
      "execution_count": 90,
      "metadata": {
        "colab": {
          "base_uri": "https://localhost:8080/"
        },
        "id": "yt2Mhw2RyvdK",
        "outputId": "b78eb080-3ffb-4c28-830f-2be5af66fac3"
      },
      "outputs": [
        {
          "output_type": "execute_result",
          "data": {
            "text/plain": [
              "300"
            ]
          },
          "metadata": {},
          "execution_count": 90
        }
      ],
      "source": [
        "dData.pop(\"사과\")"
      ]
    },
    {
      "cell_type": "code",
      "execution_count": 91,
      "metadata": {
        "colab": {
          "base_uri": "https://localhost:8080/"
        },
        "id": "SQCHiCTbyvdK",
        "outputId": "3d752c85-4948-4cd5-97a3-0031d09034c7"
      },
      "outputs": [
        {
          "output_type": "execute_result",
          "data": {
            "text/plain": [
              "{'포도': 200, '배': 500, '키위': 100, '딸기': 100}"
            ]
          },
          "metadata": {},
          "execution_count": 91
        }
      ],
      "source": [
        "dData"
      ]
    },
    {
      "cell_type": "code",
      "execution_count": 92,
      "metadata": {
        "colab": {
          "base_uri": "https://localhost:8080/",
          "height": 174
        },
        "id": "asGvG6_YyvdK",
        "outputId": "07737100-f1bf-4fff-8f27-e1d754d26050"
      },
      "outputs": [
        {
          "output_type": "error",
          "ename": "TypeError",
          "evalue": "ignored",
          "traceback": [
            "\u001b[0;31m---------------------------------------------------------------------------\u001b[0m",
            "\u001b[0;31mTypeError\u001b[0m                                 Traceback (most recent call last)",
            "\u001b[0;32m<ipython-input-92-34b2f8eac69c>\u001b[0m in \u001b[0;36m<module>\u001b[0;34m\u001b[0m\n\u001b[0;32m----> 1\u001b[0;31m \u001b[0mdData\u001b[0m\u001b[0;34m.\u001b[0m\u001b[0mpop\u001b[0m\u001b[0;34m(\u001b[0m\u001b[0;34m)\u001b[0m\u001b[0;34m\u001b[0m\u001b[0;34m\u001b[0m\u001b[0m\n\u001b[0m",
            "\u001b[0;31mTypeError\u001b[0m: pop expected at least 1 arguments, got 0"
          ]
        }
      ],
      "source": [
        "dData.pop()"
      ]
    },
    {
      "cell_type": "code",
      "execution_count": 93,
      "metadata": {
        "colab": {
          "base_uri": "https://localhost:8080/"
        },
        "id": "DtGEzgemyvdK",
        "outputId": "ffbc195f-e687-4c81-ce9f-2b86c6541687"
      },
      "outputs": [
        {
          "output_type": "execute_result",
          "data": {
            "text/plain": [
              "['딸기', '배', '키위', '포도']"
            ]
          },
          "metadata": {},
          "execution_count": 93
        }
      ],
      "source": [
        "sorted(dData)"
      ]
    },
    {
      "cell_type": "code",
      "execution_count": 94,
      "metadata": {
        "colab": {
          "base_uri": "https://localhost:8080/"
        },
        "id": "D6LhlKmkyvdK",
        "outputId": "d3c97594-b37b-49d2-a60f-323045f80ce7"
      },
      "outputs": [
        {
          "output_type": "execute_result",
          "data": {
            "text/plain": [
              "[100, 100, 200, 500]"
            ]
          },
          "metadata": {},
          "execution_count": 94
        }
      ],
      "source": [
        "sorted(dData.values())"
      ]
    },
    {
      "cell_type": "code",
      "execution_count": 95,
      "metadata": {
        "colab": {
          "base_uri": "https://localhost:8080/"
        },
        "id": "b_afYcxZyvdL",
        "outputId": "c973313d-7218-418d-9b49-f25ef9d49a27"
      },
      "outputs": [
        {
          "output_type": "execute_result",
          "data": {
            "text/plain": [
              "{'포도': 200, '배': 500, '키위': 100, '딸기': 100}"
            ]
          },
          "metadata": {},
          "execution_count": 95
        }
      ],
      "source": [
        "dData"
      ]
    },
    {
      "cell_type": "code",
      "execution_count": 96,
      "metadata": {
        "id": "dmhTPTQHyvdL"
      },
      "outputs": [],
      "source": [
        "def f(x):\n",
        "    return x + 10"
      ]
    },
    {
      "cell_type": "code",
      "execution_count": 97,
      "metadata": {
        "colab": {
          "base_uri": "https://localhost:8080/"
        },
        "id": "t_FUD7FkyvdL",
        "outputId": "8176e6df-acc7-4ce3-cc7a-d1556af763d1"
      },
      "outputs": [
        {
          "output_type": "execute_result",
          "data": {
            "text/plain": [
              "12"
            ]
          },
          "metadata": {},
          "execution_count": 97
        }
      ],
      "source": [
        "f(2)"
      ]
    },
    {
      "cell_type": "code",
      "execution_count": 97,
      "metadata": {
        "id": "bVQw5YxSyvdL"
      },
      "outputs": [],
      "source": []
    }
  ],
  "metadata": {
    "kernelspec": {
      "display_name": "Python 3.8.8 ('base')",
      "language": "python",
      "name": "python3"
    },
    "language_info": {
      "codemirror_mode": {
        "name": "ipython",
        "version": 3
      },
      "file_extension": ".py",
      "mimetype": "text/x-python",
      "name": "python",
      "nbconvert_exporter": "python",
      "pygments_lexer": "ipython3",
      "version": "3.8.8"
    },
    "orig_nbformat": 4,
    "vscode": {
      "interpreter": {
        "hash": "419b78b9ab5ab96c5b65533c96ecca10d5e9484ab274559513b9ba8800e7aac1"
      }
    },
    "colab": {
      "provenance": [],
      "collapsed_sections": [],
      "include_colab_link": true
    }
  },
  "nbformat": 4,
  "nbformat_minor": 0
}